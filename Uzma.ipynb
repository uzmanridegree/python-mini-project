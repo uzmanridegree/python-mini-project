{
  "nbformat": 4,
  "nbformat_minor": 0,
  "metadata": {
    "colab": {
      "provenance": []
    },
    "kernelspec": {
      "name": "python3",
      "display_name": "Python 3"
    },
    "language_info": {
      "name": "python"
    }
  },
  "cells": [
    {
      "cell_type": "code",
      "execution_count": null,
      "metadata": {
        "colab": {
          "base_uri": "https://localhost:8080/"
        },
        "id": "cZi0z4zp30UR",
        "outputId": "c58c4a3c-ab5a-44a5-9f3e-5e60e2be1b5c"
      },
      "outputs": [
        {
          "output_type": "stream",
          "name": "stdout",
          "text": [
            "guess a number between 1 to 10 : 2\n",
            "Too low\n",
            "guess again : 3\n",
            "congratulations you win !!!\n"
          ]
        }
      ],
      "source": [
        "import random\n",
        "random_no=random.randint(1, 10)\n",
        "guessing_no=int(input(\"guess a number between 1 to 10 : \"))\n",
        "game_over=False\n",
        "while not game_over:\n",
        "    if guessing_no==random_no:\n",
        "        print(f\"congratulations you win !!!\")\n",
        "        game_over=True\n",
        "    else:\n",
        "        if guessing_no > random_no:\n",
        "            print(\"Too High\")\n",
        "        else:\n",
        "            print(\"Too low\")\n",
        "            guessing_no=int(input(\"guess again : \"))"
      ]
    }
  ]
}